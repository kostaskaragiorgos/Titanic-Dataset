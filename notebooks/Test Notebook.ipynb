{
 "cells": [
  {
   "cell_type": "code",
   "execution_count": 1,
   "metadata": {},
   "outputs": [
    {
     "name": "stderr",
     "output_type": "stream",
     "text": [
      "C:\\Users\\master\\Anaconda3\\lib\\site-packages\\dask\\config.py:168: YAMLLoadWarning: calling yaml.load() without Loader=... is deprecated, as the default Loader is unsafe. Please read https://msg.pyyaml.org/load for full details.\n",
      "  data = yaml.load(f.read()) or {}\n",
      "C:\\Users\\master\\Anaconda3\\lib\\site-packages\\dask\\dataframe\\utils.py:13: FutureWarning: pandas.util.testing is deprecated. Use the functions in the public API at pandas.testing instead.\n",
      "  import pandas.util.testing as tm\n",
      "C:\\Users\\master\\Anaconda3\\lib\\site-packages\\distributed\\config.py:20: YAMLLoadWarning: calling yaml.load() without Loader=... is deprecated, as the default Loader is unsafe. Please read https://msg.pyyaml.org/load for full details.\n",
      "  defaults = yaml.load(f)\n",
      "C:\\Users\\master\\Anaconda3\\lib\\site-packages\\h5py\\__init__.py:72: UserWarning: h5py is running against HDF5 1.10.2 when it was built against 1.10.3, this may cause problems\n",
      "  '{0}.{1}.{2}'.format(*version.hdf5_built_version_tuple)\n",
      "Using TensorFlow backend.\n"
     ]
    }
   ],
   "source": [
    "import pandas as pd\n",
    "import numpy as np\n",
    "import matplotlib.pyplot as plt\n",
    "from sklearn.impute import SimpleImputer\n",
    "from sklearn.preprocessing import OneHotEncoder\n",
    "from sklearn.compose import ColumnTransformer\n",
    "from sklearn.model_selection import train_test_split\n",
    "from sklearn.preprocessing import StandardScaler\n",
    "from sklearn.linear_model import LogisticRegression\n",
    "from sklearn.neighbors import KNeighborsClassifier\n",
    "from sklearn.svm import SVC\n",
    "from sklearn.naive_bayes import GaussianNB\n",
    "from sklearn.tree import DecisionTreeClassifier\n",
    "from sklearn.ensemble import RandomForestClassifier, VotingClassifier\n",
    "from xgboost import XGBClassifier\n",
    "from sklearn.metrics import confusion_matrix, accuracy_score\n",
    "import pickle\n",
    "from sklearn.neural_network import MLPClassifier\n",
    "import keras\n",
    "from keras.models import Sequential\n",
    "from keras.layers import Dense, Dropout, Activation,Flatten\n",
    "from keras.optimizers import SGD"
   ]
  },
  {
   "cell_type": "code",
   "execution_count": 2,
   "metadata": {},
   "outputs": [
    {
     "data": {
      "text/html": [
       "<div>\n",
       "<style scoped>\n",
       "    .dataframe tbody tr th:only-of-type {\n",
       "        vertical-align: middle;\n",
       "    }\n",
       "\n",
       "    .dataframe tbody tr th {\n",
       "        vertical-align: top;\n",
       "    }\n",
       "\n",
       "    .dataframe thead th {\n",
       "        text-align: right;\n",
       "    }\n",
       "</style>\n",
       "<table border=\"1\" class=\"dataframe\">\n",
       "  <thead>\n",
       "    <tr style=\"text-align: right;\">\n",
       "      <th></th>\n",
       "      <th>PassengerId</th>\n",
       "      <th>Pclass</th>\n",
       "      <th>Name</th>\n",
       "      <th>Sex</th>\n",
       "      <th>Age</th>\n",
       "      <th>SibSp</th>\n",
       "      <th>Parch</th>\n",
       "      <th>Ticket</th>\n",
       "      <th>Fare</th>\n",
       "      <th>Cabin</th>\n",
       "      <th>Embarked</th>\n",
       "    </tr>\n",
       "  </thead>\n",
       "  <tbody>\n",
       "    <tr>\n",
       "      <th>0</th>\n",
       "      <td>892</td>\n",
       "      <td>3</td>\n",
       "      <td>Kelly, Mr. James</td>\n",
       "      <td>male</td>\n",
       "      <td>34.5</td>\n",
       "      <td>0</td>\n",
       "      <td>0</td>\n",
       "      <td>330911</td>\n",
       "      <td>7.8292</td>\n",
       "      <td>NaN</td>\n",
       "      <td>Q</td>\n",
       "    </tr>\n",
       "    <tr>\n",
       "      <th>1</th>\n",
       "      <td>893</td>\n",
       "      <td>3</td>\n",
       "      <td>Wilkes, Mrs. James (Ellen Needs)</td>\n",
       "      <td>female</td>\n",
       "      <td>47.0</td>\n",
       "      <td>1</td>\n",
       "      <td>0</td>\n",
       "      <td>363272</td>\n",
       "      <td>7.0000</td>\n",
       "      <td>NaN</td>\n",
       "      <td>S</td>\n",
       "    </tr>\n",
       "    <tr>\n",
       "      <th>2</th>\n",
       "      <td>894</td>\n",
       "      <td>2</td>\n",
       "      <td>Myles, Mr. Thomas Francis</td>\n",
       "      <td>male</td>\n",
       "      <td>62.0</td>\n",
       "      <td>0</td>\n",
       "      <td>0</td>\n",
       "      <td>240276</td>\n",
       "      <td>9.6875</td>\n",
       "      <td>NaN</td>\n",
       "      <td>Q</td>\n",
       "    </tr>\n",
       "    <tr>\n",
       "      <th>3</th>\n",
       "      <td>895</td>\n",
       "      <td>3</td>\n",
       "      <td>Wirz, Mr. Albert</td>\n",
       "      <td>male</td>\n",
       "      <td>27.0</td>\n",
       "      <td>0</td>\n",
       "      <td>0</td>\n",
       "      <td>315154</td>\n",
       "      <td>8.6625</td>\n",
       "      <td>NaN</td>\n",
       "      <td>S</td>\n",
       "    </tr>\n",
       "    <tr>\n",
       "      <th>4</th>\n",
       "      <td>896</td>\n",
       "      <td>3</td>\n",
       "      <td>Hirvonen, Mrs. Alexander (Helga E Lindqvist)</td>\n",
       "      <td>female</td>\n",
       "      <td>22.0</td>\n",
       "      <td>1</td>\n",
       "      <td>1</td>\n",
       "      <td>3101298</td>\n",
       "      <td>12.2875</td>\n",
       "      <td>NaN</td>\n",
       "      <td>S</td>\n",
       "    </tr>\n",
       "  </tbody>\n",
       "</table>\n",
       "</div>"
      ],
      "text/plain": [
       "   PassengerId  Pclass                                          Name     Sex  \\\n",
       "0          892       3                              Kelly, Mr. James    male   \n",
       "1          893       3              Wilkes, Mrs. James (Ellen Needs)  female   \n",
       "2          894       2                     Myles, Mr. Thomas Francis    male   \n",
       "3          895       3                              Wirz, Mr. Albert    male   \n",
       "4          896       3  Hirvonen, Mrs. Alexander (Helga E Lindqvist)  female   \n",
       "\n",
       "    Age  SibSp  Parch   Ticket     Fare Cabin Embarked  \n",
       "0  34.5      0      0   330911   7.8292   NaN        Q  \n",
       "1  47.0      1      0   363272   7.0000   NaN        S  \n",
       "2  62.0      0      0   240276   9.6875   NaN        Q  \n",
       "3  27.0      0      0   315154   8.6625   NaN        S  \n",
       "4  22.0      1      1  3101298  12.2875   NaN        S  "
      ]
     },
     "execution_count": 2,
     "metadata": {},
     "output_type": "execute_result"
    }
   ],
   "source": [
    "df = pd.read_csv('../submission files/test.csv')\n",
    "df.head()"
   ]
  },
  {
   "cell_type": "code",
   "execution_count": 3,
   "metadata": {},
   "outputs": [
    {
     "name": "stdout",
     "output_type": "stream",
     "text": [
      "PassengerId      0\n",
      "Pclass           0\n",
      "Name             0\n",
      "Sex              0\n",
      "Age              0\n",
      "SibSp            0\n",
      "Parch            0\n",
      "Ticket           0\n",
      "Fare             0\n",
      "Cabin          326\n",
      "Embarked         0\n",
      "age_group        0\n",
      "Fare_group       0\n",
      "dtype: int64\n"
     ]
    },
    {
     "data": {
      "text/html": [
       "<div>\n",
       "<style scoped>\n",
       "    .dataframe tbody tr th:only-of-type {\n",
       "        vertical-align: middle;\n",
       "    }\n",
       "\n",
       "    .dataframe tbody tr th {\n",
       "        vertical-align: top;\n",
       "    }\n",
       "\n",
       "    .dataframe thead th {\n",
       "        text-align: right;\n",
       "    }\n",
       "</style>\n",
       "<table border=\"1\" class=\"dataframe\">\n",
       "  <thead>\n",
       "    <tr style=\"text-align: right;\">\n",
       "      <th></th>\n",
       "      <th>PassengerId</th>\n",
       "      <th>Pclass</th>\n",
       "      <th>Name</th>\n",
       "      <th>Sex</th>\n",
       "      <th>Age</th>\n",
       "      <th>SibSp</th>\n",
       "      <th>Parch</th>\n",
       "      <th>Ticket</th>\n",
       "      <th>Fare</th>\n",
       "      <th>Cabin</th>\n",
       "      <th>Embarked</th>\n",
       "      <th>age_group</th>\n",
       "      <th>Fare_group</th>\n",
       "    </tr>\n",
       "  </thead>\n",
       "  <tbody>\n",
       "    <tr>\n",
       "      <th>0</th>\n",
       "      <td>892</td>\n",
       "      <td>3</td>\n",
       "      <td>Kelly, Mr. James</td>\n",
       "      <td>male</td>\n",
       "      <td>34.5</td>\n",
       "      <td>0</td>\n",
       "      <td>0</td>\n",
       "      <td>330911</td>\n",
       "      <td>7.8292</td>\n",
       "      <td>NaN</td>\n",
       "      <td>Q</td>\n",
       "      <td>adult</td>\n",
       "      <td>cheap</td>\n",
       "    </tr>\n",
       "    <tr>\n",
       "      <th>1</th>\n",
       "      <td>893</td>\n",
       "      <td>3</td>\n",
       "      <td>Wilkes, Mrs. James (Ellen Needs)</td>\n",
       "      <td>female</td>\n",
       "      <td>47.0</td>\n",
       "      <td>1</td>\n",
       "      <td>0</td>\n",
       "      <td>363272</td>\n",
       "      <td>7.0000</td>\n",
       "      <td>NaN</td>\n",
       "      <td>S</td>\n",
       "      <td>adult</td>\n",
       "      <td>cheap</td>\n",
       "    </tr>\n",
       "    <tr>\n",
       "      <th>2</th>\n",
       "      <td>894</td>\n",
       "      <td>2</td>\n",
       "      <td>Myles, Mr. Thomas Francis</td>\n",
       "      <td>male</td>\n",
       "      <td>62.0</td>\n",
       "      <td>0</td>\n",
       "      <td>0</td>\n",
       "      <td>240276</td>\n",
       "      <td>9.6875</td>\n",
       "      <td>NaN</td>\n",
       "      <td>Q</td>\n",
       "      <td>old</td>\n",
       "      <td>cheap</td>\n",
       "    </tr>\n",
       "    <tr>\n",
       "      <th>3</th>\n",
       "      <td>895</td>\n",
       "      <td>3</td>\n",
       "      <td>Wirz, Mr. Albert</td>\n",
       "      <td>male</td>\n",
       "      <td>27.0</td>\n",
       "      <td>0</td>\n",
       "      <td>0</td>\n",
       "      <td>315154</td>\n",
       "      <td>8.6625</td>\n",
       "      <td>NaN</td>\n",
       "      <td>S</td>\n",
       "      <td>adult</td>\n",
       "      <td>cheap</td>\n",
       "    </tr>\n",
       "    <tr>\n",
       "      <th>4</th>\n",
       "      <td>896</td>\n",
       "      <td>3</td>\n",
       "      <td>Hirvonen, Mrs. Alexander (Helga E Lindqvist)</td>\n",
       "      <td>female</td>\n",
       "      <td>22.0</td>\n",
       "      <td>1</td>\n",
       "      <td>1</td>\n",
       "      <td>3101298</td>\n",
       "      <td>12.2875</td>\n",
       "      <td>NaN</td>\n",
       "      <td>S</td>\n",
       "      <td>child</td>\n",
       "      <td>cheap</td>\n",
       "    </tr>\n",
       "    <tr>\n",
       "      <th>...</th>\n",
       "      <td>...</td>\n",
       "      <td>...</td>\n",
       "      <td>...</td>\n",
       "      <td>...</td>\n",
       "      <td>...</td>\n",
       "      <td>...</td>\n",
       "      <td>...</td>\n",
       "      <td>...</td>\n",
       "      <td>...</td>\n",
       "      <td>...</td>\n",
       "      <td>...</td>\n",
       "      <td>...</td>\n",
       "      <td>...</td>\n",
       "    </tr>\n",
       "    <tr>\n",
       "      <th>413</th>\n",
       "      <td>1305</td>\n",
       "      <td>3</td>\n",
       "      <td>Spector, Mr. Woolf</td>\n",
       "      <td>male</td>\n",
       "      <td>23.0</td>\n",
       "      <td>0</td>\n",
       "      <td>0</td>\n",
       "      <td>A.5. 3236</td>\n",
       "      <td>8.0500</td>\n",
       "      <td>NaN</td>\n",
       "      <td>S</td>\n",
       "      <td>child</td>\n",
       "      <td>cheap</td>\n",
       "    </tr>\n",
       "    <tr>\n",
       "      <th>414</th>\n",
       "      <td>1306</td>\n",
       "      <td>1</td>\n",
       "      <td>Oliva y Ocana, Dona. Fermina</td>\n",
       "      <td>female</td>\n",
       "      <td>39.0</td>\n",
       "      <td>0</td>\n",
       "      <td>0</td>\n",
       "      <td>PC 17758</td>\n",
       "      <td>108.9000</td>\n",
       "      <td>C105</td>\n",
       "      <td>C</td>\n",
       "      <td>adult</td>\n",
       "      <td>cheap</td>\n",
       "    </tr>\n",
       "    <tr>\n",
       "      <th>415</th>\n",
       "      <td>1307</td>\n",
       "      <td>3</td>\n",
       "      <td>Saether, Mr. Simon Sivertsen</td>\n",
       "      <td>male</td>\n",
       "      <td>38.5</td>\n",
       "      <td>0</td>\n",
       "      <td>0</td>\n",
       "      <td>SOTON/O.Q. 3101262</td>\n",
       "      <td>7.2500</td>\n",
       "      <td>NaN</td>\n",
       "      <td>S</td>\n",
       "      <td>adult</td>\n",
       "      <td>cheap</td>\n",
       "    </tr>\n",
       "    <tr>\n",
       "      <th>416</th>\n",
       "      <td>1308</td>\n",
       "      <td>3</td>\n",
       "      <td>Ware, Mr. Frederick</td>\n",
       "      <td>male</td>\n",
       "      <td>34.0</td>\n",
       "      <td>0</td>\n",
       "      <td>0</td>\n",
       "      <td>359309</td>\n",
       "      <td>8.0500</td>\n",
       "      <td>NaN</td>\n",
       "      <td>S</td>\n",
       "      <td>adult</td>\n",
       "      <td>cheap</td>\n",
       "    </tr>\n",
       "    <tr>\n",
       "      <th>417</th>\n",
       "      <td>1309</td>\n",
       "      <td>3</td>\n",
       "      <td>Peter, Master. Michael J</td>\n",
       "      <td>male</td>\n",
       "      <td>5.0</td>\n",
       "      <td>1</td>\n",
       "      <td>1</td>\n",
       "      <td>2668</td>\n",
       "      <td>22.3583</td>\n",
       "      <td>NaN</td>\n",
       "      <td>C</td>\n",
       "      <td>child</td>\n",
       "      <td>cheap</td>\n",
       "    </tr>\n",
       "  </tbody>\n",
       "</table>\n",
       "<p>418 rows × 13 columns</p>\n",
       "</div>"
      ],
      "text/plain": [
       "     PassengerId  Pclass                                          Name  \\\n",
       "0            892       3                              Kelly, Mr. James   \n",
       "1            893       3              Wilkes, Mrs. James (Ellen Needs)   \n",
       "2            894       2                     Myles, Mr. Thomas Francis   \n",
       "3            895       3                              Wirz, Mr. Albert   \n",
       "4            896       3  Hirvonen, Mrs. Alexander (Helga E Lindqvist)   \n",
       "..           ...     ...                                           ...   \n",
       "413         1305       3                            Spector, Mr. Woolf   \n",
       "414         1306       1                  Oliva y Ocana, Dona. Fermina   \n",
       "415         1307       3                  Saether, Mr. Simon Sivertsen   \n",
       "416         1308       3                           Ware, Mr. Frederick   \n",
       "417         1309       3                      Peter, Master. Michael J   \n",
       "\n",
       "        Sex   Age  SibSp  Parch              Ticket      Fare Cabin Embarked  \\\n",
       "0      male  34.5      0      0              330911    7.8292   NaN        Q   \n",
       "1    female  47.0      1      0              363272    7.0000   NaN        S   \n",
       "2      male  62.0      0      0              240276    9.6875   NaN        Q   \n",
       "3      male  27.0      0      0              315154    8.6625   NaN        S   \n",
       "4    female  22.0      1      1             3101298   12.2875   NaN        S   \n",
       "..      ...   ...    ...    ...                 ...       ...   ...      ...   \n",
       "413    male  23.0      0      0           A.5. 3236    8.0500   NaN        S   \n",
       "414  female  39.0      0      0            PC 17758  108.9000  C105        C   \n",
       "415    male  38.5      0      0  SOTON/O.Q. 3101262    7.2500   NaN        S   \n",
       "416    male  34.0      0      0              359309    8.0500   NaN        S   \n",
       "417    male   5.0      1      1                2668   22.3583   NaN        C   \n",
       "\n",
       "    age_group Fare_group  \n",
       "0       adult      cheap  \n",
       "1       adult      cheap  \n",
       "2         old      cheap  \n",
       "3       adult      cheap  \n",
       "4       child      cheap  \n",
       "..        ...        ...  \n",
       "413     child      cheap  \n",
       "414     adult      cheap  \n",
       "415     adult      cheap  \n",
       "416     adult      cheap  \n",
       "417     child      cheap  \n",
       "\n",
       "[418 rows x 13 columns]"
      ]
     },
     "execution_count": 3,
     "metadata": {},
     "output_type": "execute_result"
    }
   ],
   "source": [
    "df ['Age'] = df['Age'].fillna(df['Age'].mean())\n",
    "df['Fare'] = df['Fare'].fillna(df['Fare'].mean())\n",
    "df.isnull().sum()\n",
    "labels = ['child','adult','old']\n",
    "df['age_group'] = pd.cut(df['Age'], bins=3, labels=labels)\n",
    "df['age_group']= df['age_group'].fillna('adult')\n",
    "labelsfare = ['cheap', 'normal', 'expensive']\n",
    "df['Fare_group'] = pd.cut(df['Fare'], bins=3, labels=labelsfare)\n",
    "df['Fare_group']= df['Fare_group'].fillna('cheap')\n",
    "print(df.isnull().sum())\n",
    "df"
   ]
  },
  {
   "cell_type": "code",
   "execution_count": 4,
   "metadata": {},
   "outputs": [],
   "source": [
    "df.drop(columns=['PassengerId', 'Name', 'Cabin', 'Embarked', 'Ticket','Fare', 'Age'], inplace=True)"
   ]
  },
  {
   "cell_type": "code",
   "execution_count": null,
   "metadata": {},
   "outputs": [],
   "source": [
    "df"
   ]
  },
  {
   "cell_type": "code",
   "execution_count": null,
   "metadata": {},
   "outputs": [],
   "source": [
    "df['FamilySize'] = df['SibSp'] + df['Parch'] + 1\n",
    "df.loc[df['FamilySize'] == 1, 'IsAlone'] = 1\n",
    "df['IsAlone']= df['IsAlone'].fillna(0)\n",
    "df.drop(columns=['SibSp', 'Parch', ], inplace=True)\n",
    "df"
   ]
  },
  {
   "cell_type": "code",
   "execution_count": 5,
   "metadata": {},
   "outputs": [
    {
     "data": {
      "text/plain": [
       "array([[3, 'male', 0, 0, 'adult', 'cheap'],\n",
       "       [3, 'female', 1, 0, 'adult', 'cheap'],\n",
       "       [2, 'male', 0, 0, 'old', 'cheap'],\n",
       "       ...,\n",
       "       [3, 'male', 0, 0, 'adult', 'cheap'],\n",
       "       [3, 'male', 0, 0, 'adult', 'cheap'],\n",
       "       [3, 'male', 1, 1, 'child', 'cheap']], dtype=object)"
      ]
     },
     "execution_count": 5,
     "metadata": {},
     "output_type": "execute_result"
    }
   ],
   "source": [
    "X = df.iloc[:,:].values\n",
    "X"
   ]
  },
  {
   "cell_type": "code",
   "execution_count": 6,
   "metadata": {},
   "outputs": [
    {
     "name": "stdout",
     "output_type": "stream",
     "text": [
      "[[0.0 1.0 1.0 ... 3 0 0]\n",
      " [1.0 0.0 1.0 ... 3 1 0]\n",
      " [0.0 1.0 0.0 ... 2 0 0]\n",
      " ...\n",
      " [0.0 1.0 1.0 ... 3 0 0]\n",
      " [0.0 1.0 1.0 ... 3 0 0]\n",
      " [0.0 1.0 0.0 ... 3 1 1]]\n"
     ]
    }
   ],
   "source": [
    "ct = ColumnTransformer(transformers=[('encoder', OneHotEncoder(), [1,4,-1])], remainder='passthrough')\n",
    "X = np.array(ct.fit_transform(X))\n",
    "print(X)"
   ]
  },
  {
   "cell_type": "code",
   "execution_count": 7,
   "metadata": {
    "scrolled": true
   },
   "outputs": [
    {
     "data": {
      "text/plain": [
       "array([[0.0, 1.0, 1.004796190585624, ..., 0.8734819050636105,\n",
       "        -0.4994700165357186, -0.4002477016385638],\n",
       "       [1.0, 0.0, 1.004796190585624, ..., 0.8734819050636105,\n",
       "        0.6169923733676523, -0.4002477016385638],\n",
       "       [0.0, 1.0, -0.9952267030562371, ..., -0.3158191904301653,\n",
       "        -0.4994700165357186, -0.4002477016385638],\n",
       "       ...,\n",
       "       [0.0, 1.0, 1.004796190585624, ..., 0.8734819050636105,\n",
       "        -0.4994700165357186, -0.4002477016385638],\n",
       "       [0.0, 1.0, 1.004796190585624, ..., 0.8734819050636105,\n",
       "        -0.4994700165357186, -0.4002477016385638],\n",
       "       [0.0, 1.0, -0.9952267030562371, ..., 0.8734819050636105,\n",
       "        0.6169923733676523, 0.6198958305865561]], dtype=object)"
      ]
     },
     "execution_count": 7,
     "metadata": {},
     "output_type": "execute_result"
    }
   ],
   "source": [
    "sc = StandardScaler()\n",
    "X[:, 2:] = sc.fit_transform(X[:, 2:])\n",
    "X"
   ]
  },
  {
   "cell_type": "code",
   "execution_count": 13,
   "metadata": {},
   "outputs": [],
   "source": [
    "filename='titanic8250.sav'\n",
    "loaded_modelmlp = pickle.load(open(filename, 'rb'))"
   ]
  },
  {
   "cell_type": "code",
   "execution_count": 14,
   "metadata": {},
   "outputs": [
    {
     "name": "stdout",
     "output_type": "stream",
     "text": [
      "[[0.1993132084608078], [0.7443549633026123], [0.05763012170791626], [0.1993132084608078], [0.5175249576568604], [0.16585776209831238], [0.31193843483924866], [0.06876014173030853], [0.5704846978187561], [0.3121405839920044], [0.1993132084608078], [0.45763924717903137], [0.9867761731147766], [0.11309215426445007], [0.9983487129211426], [0.8484999537467957], [0.12559540569782257], [0.16585776209831238], [0.7443549633026123], [0.31193843483924866], [0.43880999088287354], [0.5857515931129456], [0.9985816478729248], [0.1749678999185562], [0.9751362800598145], [0.06465788185596466], [0.9821552038192749], [0.16585776209831238], [0.45763924717903137], [0.05891658738255501], [0.14277800917625427], [0.20730219781398773], [0.5287472009658813], [0.5287472009658813], [0.45902010798454285], [0.16585776209831238], [0.31193843483924866], [0.5704846978187561], [0.16585776209831238], [0.1993132084608078], [0.17622236907482147], [0.45763924717903137], [0.1993132084608078], [0.9617673754692078], [0.9983487129211426], [0.16585776209831238], [0.45763924717903137], [0.16585776209831238], [0.9835467338562012], [0.35215339064598083], [0.3266381025314331], [0.12559540569782257], [0.6398755311965942], [0.9857774376869202], [0.12559540569782257], [0.02262125536799431], [0.1993132084608078], [0.16585776209831238], [0.06465788185596466], [0.9543183445930481], [0.16585776209831238], [0.12559540569782257], [0.16585779190063477], [0.5704846978187561], [0.5530393123626709], [0.9617673754692078], [0.5704846978187561], [0.45763924717903137], [0.45763924717903137], [0.9604248404502869], [0.5704846978187561], [0.16585776209831238], [0.31193843483924866], [0.45763924717903137], [0.9543183445930481], [0.19347016513347626], [0.1993132084608078], [0.9963163137435913], [0.12559540569782257], [0.5704846978187561], [0.555677592754364], [0.13516783714294434], [0.45763924717903137], [0.1993132084608078], [0.12559540569782257], [0.33347636461257935], [0.31193843483924866], [0.5704846978187561], [0.31193843483924866], [0.8049765825271606], [0.5512352585792542], [0.1993132084608078], [0.9979351758956909], [0.1993132084608078], [0.042572300881147385], [0.16585779190063477], [0.9943528175354004], [0.1993132084608078], [0.5704846978187561], [0.1993132084608078], [0.9983487129211426], [0.14277803897857666], [0.16585776209831238], [0.1993132084608078], [0.5175249576568604], [0.1993132084608078], [0.16585776209831238], [0.16585776209831238], [0.1993132084608078], [0.06686807423830032], [0.12559540569782257], [0.5704846978187561], [0.9985816478729248], [0.5704846978187561], [0.9519211649894714], [0.33347636461257935], [0.1993132084608078], [0.5175249576568604], [0.45763924717903137], [0.9519212245941162], [0.8598969578742981], [0.33347636461257935], [0.9983487129211426], [0.1993132084608078], [0.16585776209831238], [0.5631902813911438], [0.16585779190063477], [0.8722990155220032], [0.12559540569782257], [0.16585776209831238], [0.1993132084608078], [0.03541085124015808], [0.23480424284934998], [0.06465788185596466], [0.1993132084608078], [0.16585776209831238], [0.1993132084608078], [0.12559540569782257], [0.5704846978187561], [0.000838852662127465], [0.1553543508052826], [0.9985816478729248], [0.07625964283943176], [0.12559540569782257], [0.45763924717903137], [0.0559055432677269], [0.45763924717903137], [0.16585776209831238], [0.03541085124015808], [0.06876014173030853], [0.9821552038192749], [0.1993132084608078], [0.09026440978050232], [0.35215339064598083], [0.007539747748523951], [0.16585776209831238], [0.9543183445930481], [0.5704846978187561], [0.45763924717903137], [0.35215339064598083], [0.5704846978187561], [0.555677592754364], [0.9617673754692078], [0.1993132084608078], [0.12559540569782257], [0.5790903568267822], [0.45763924717903137], [0.05729474499821663], [0.9985816478729248], [0.5704846978187561], [0.1993132084608078], [0.1993132084608078], [0.33347636461257935], [0.16585776209831238], [0.0018324317643418908], [0.9141830801963806], [0.8598969578742981], [0.43880999088287354], [0.915524959564209], [0.9941078424453735], [0.12559540569782257], [0.44838839769363403], [0.9867761731147766], [0.16585776209831238], [0.9926487803459167], [0.12559540569782257], [0.9125487208366394], [0.3121405839920044], [0.03404382988810539], [0.12559540569782257], [0.14277800917625427], [0.45763924717903137], [0.555677592754364], [0.05763012170791626], [0.9226080775260925], [0.1993132084608078], [0.8573508858680725], [0.5704846978187561], [0.06686807423830032], [0.5672652721405029], [0.31193843483924866], [0.65330570936203], [0.19302578270435333], [0.7819954752922058], [0.06686807423830032], [0.45763924717903137], [0.31193843483924866], [0.06686807423830032], [0.9985816478729248], [0.16585776209831238], [0.1993132084608078], [0.1993132084608078], [0.06686807423830032], [0.8914813995361328], [0.08252881467342377], [0.45763924717903137], [0.31193843483924866], [0.6806294918060303], [0.9926487803459167], [0.1993132084608078], [0.9519212245941162], [0.16585776209831238], [0.8598969578742981], [0.16585779190063477], [0.9835467338562012], [0.35215339064598083], [0.16585776209831238], [0.31193843483924866], [0.1993132084608078], [0.12559540569782257], [0.06686807423830032], [0.9808595180511475], [0.33347636461257935], [0.16585776209831238], [0.45902010798454285], [0.16585776209831238], [0.43880999088287354], [0.16585776209831238], [0.7819954752922058], [0.9983487129211426], [0.9835467338562012], [0.9328963756561279], [0.44838839769363403], [0.1993132084608078], [0.2708779275417328], [0.45902010798454285], [0.8598969578742981], [0.06876014173030853], [0.9519212245941162], [0.5512352585792542], [0.7778702974319458], [0.16585776209831238], [0.45902010798454285], [0.16585776209831238], [0.1993131786584854], [0.16585779190063477], [0.1993132084608078], [0.1993132084608078], [0.8598969578742981], [0.16585776209831238], [0.06465788185596466], [0.16585776209831238], [0.9328963756561279], [0.5175249576568604], [0.12559540569782257], [0.1993132084608078], [0.45763924717903137], [0.1993132084608078], [0.31193843483924866], [0.16585776209831238], [0.45763924717903137], [0.1993132084608078], [0.9983487129211426], [0.5512352585792542], [0.16585776209831238], [0.8484999537467957], [0.12559540569782257], [0.14277803897857666], [0.14277803897857666], [0.06686807423830032], [0.5704846978187561], [0.555677592754364], [0.5704846978187561], [0.5175249576568604], [0.5175249576568604], [0.1993132084608078], [0.1993131786584854], [0.3266380727291107], [0.16585776209831238], [0.16585776209831238], [0.45763924717903137], [0.31193843483924866], [0.16585776209831238], [0.6806294918060303], [0.1993132084608078], [0.1993132084608078], [0.7778702974319458], [0.05891658738255501], [0.45763924717903137], [0.1993132084608078], [0.1993132084608078], [0.06686807423830032], [0.1384076625108719], [0.16585776209831238], [0.5704846978187561], [0.9963551759719849], [0.46465983986854553], [0.5857515931129456], [0.6806294918060303], [0.7443549633026123], [0.16585776209831238], [0.16585776209831238], [0.16585776209831238], [0.31193843483924866], [0.9835467338562012], [0.5704846978187561], [0.43880999088287354], [0.06686807423830032], [0.1993131786584854], [0.20730219781398773], [0.1993132084608078], [0.16585776209831238], [0.12559540569782257], [0.45763924717903137], [0.9543183445930481], [0.16585776209831238], [0.6398755311965942], [0.45763924717903137], [0.14277803897857666], [0.06686807423830032], [0.9328963756561279], [0.45763924717903137], [0.16585776209831238], [0.5175249576568604], [0.1993132084608078], [0.45763924717903137], [0.12559540569782257], [0.1307530701160431], [0.06686807423830032], [0.1993132084608078], [0.06686807423830032], [0.1993132084608078], [7.915985770523548e-05], [0.9999966621398926], [0.555677592754364], [0.5704846978187561], [0.12559540569782257], [0.31193843483924866], [0.06686807423830032], [0.9617673754692078], [0.9991098046302795], [0.06686805933713913], [0.06686807423830032], [0.06525129079818726], [0.48636987805366516], [0.45763924717903137], [0.9963163137435913], [0.16585776209831238], [0.16585776209831238], [0.7443549633026123], [0.001114593236707151], [0.7819954752922058], [0.9617673754692078], [0.1993132084608078], [0.9867761731147766], [0.004550718702375889], [0.06465788185596466], [0.5704846978187561], [0.9991098046302795], [0.12559540569782257], [0.12763236463069916], [0.9985816478729248], [0.45763924717903137], [0.12559540569782257], [0.9963551759719849], [0.9543183445930481], [0.3195025622844696], [0.06686807423830032], [0.03541085124015808], [0.007539747748523951], [0.16585776209831238], [0.1993132084608078], [0.5672652721405029], [0.5512352585792542], [0.06686807423830032], [0.7778702974319458], [0.16585776209831238], [0.05763012170791626], [0.16585776209831238], [0.034506432712078094], [0.042572300881147385], [0.9883447885513306], [0.65330570936203], [0.12559540569782257], [0.016698548570275307], [0.9867761731147766], [0.16585776209831238], [0.9991303086280823], [0.16585776209831238], [0.1993132084608078], [0.9985816478729248], [0.14277803897857666], [0.9821552038192749], [0.042572300881147385], [0.45902010798454285], [0.06686807423830032], [0.12763236463069916], [0.1354602724313736], [0.5704846978187561], [0.5175249576568604], [0.5704846978187561], [0.9983487129211426], [0.31193843483924866], [0.16585776209831238], [0.9985816478729248], [0.1993131786584854], [0.1993131786584854], [0.555677592754364]]\n"
     ]
    }
   ],
   "source": [
    "predictions= loaded_modelmlp.predict(X).tolist()\n",
    "print(predictions)"
   ]
  },
  {
   "cell_type": "code",
   "execution_count": null,
   "metadata": {},
   "outputs": [],
   "source": [
    "filename = '../MLPClassifier30854.sav'\n",
    "loaded_modelmlp = pickle.load(open(filename, 'rb'))"
   ]
  },
  {
   "cell_type": "code",
   "execution_count": 15,
   "metadata": {},
   "outputs": [
    {
     "name": "stdout",
     "output_type": "stream",
     "text": [
      "0       [0.1993132084608078]\n",
      "1       [0.7443549633026123]\n",
      "2      [0.05763012170791626]\n",
      "3       [0.1993132084608078]\n",
      "4       [0.5175249576568604]\n",
      "               ...          \n",
      "413    [0.16585776209831238]\n",
      "414     [0.9985816478729248]\n",
      "415     [0.1993131786584854]\n",
      "416     [0.1993131786584854]\n",
      "417      [0.555677592754364]\n",
      "Length: 418, dtype: object\n"
     ]
    }
   ],
   "source": [
    "se = pd.Series(predictions)\n",
    "df['check'] = se\n",
    "df['check'] = df['check'].str.get(0)\n",
    "print(se)\n",
    "finaldf = []\n",
    "for val in df.check:\n",
    "    if val >= 0.5:\n",
    "        finaldf.append(1)\n",
    "    else:\n",
    "        finaldf.append(0)"
   ]
  },
  {
   "cell_type": "code",
   "execution_count": 16,
   "metadata": {},
   "outputs": [],
   "source": [
    "sub['Survived'] = finaldf\n",
    "sub\n",
    "sub.to_csv('../submission files/readymodel8250.csv', index=False)"
   ]
  },
  {
   "cell_type": "code",
   "execution_count": null,
   "metadata": {},
   "outputs": [],
   "source": [
    "filename = '../models/RandomForestClassifier_model2079.sav'\n",
    "loaded_modelrfc = pickle.load(open(filename, 'rb'))"
   ]
  },
  {
   "cell_type": "code",
   "execution_count": null,
   "metadata": {},
   "outputs": [],
   "source": [
    "y_predrf = loaded_modelmlp.predict(X)"
   ]
  },
  {
   "cell_type": "code",
   "execution_count": 11,
   "metadata": {},
   "outputs": [],
   "source": [
    "sub = pd.read_csv('../submission files/gender_submission.csv', delimiter=',')\n",
    "sub.drop(columns=['Survived'], inplace=True)"
   ]
  },
  {
   "cell_type": "code",
   "execution_count": null,
   "metadata": {},
   "outputs": [],
   "source": [
    "filename = 'MLPClassifier776.sav'\n",
    "loaded_modelmlp = pickle.load(open(filename, 'rb'))\n",
    "y_predrf = loaded_modelmlp.predict(X)"
   ]
  },
  {
   "cell_type": "code",
   "execution_count": null,
   "metadata": {},
   "outputs": [],
   "source": [
    "sub['Survived'] = y_predrf\n",
    "sub\n",
    "sub.to_csv('../submission files/readydmlp776.csv', index=False)"
   ]
  },
  {
   "cell_type": "code",
   "execution_count": null,
   "metadata": {},
   "outputs": [],
   "source": [
    "filename = '../models/RandomForestClassifier_model2079.sav'\n",
    "loaded_modelxgb = pickle.load(open(filename, 'rb'))"
   ]
  },
  {
   "cell_type": "code",
   "execution_count": null,
   "metadata": {},
   "outputs": [],
   "source": [
    "y_predrf = loaded_modelxgb.predict(X)"
   ]
  },
  {
   "cell_type": "code",
   "execution_count": null,
   "metadata": {},
   "outputs": [],
   "source": [
    "sub = pd.read_csv('../submission files/gender_submission.csv', delimiter=',')\n",
    "sub.drop(columns=['Survived'], inplace=True)"
   ]
  },
  {
   "cell_type": "code",
   "execution_count": null,
   "metadata": {},
   "outputs": [],
   "source": [
    "sub['Survived'] = y_predrf\n",
    "sub\n",
    "sub.to_csv('../submission files/readyrf2078.csv', index=False)"
   ]
  },
  {
   "cell_type": "markdown",
   "metadata": {},
   "source": [
    "#  Decision Tree 78"
   ]
  },
  {
   "cell_type": "code",
   "execution_count": null,
   "metadata": {},
   "outputs": [],
   "source": [
    "filename = '../models/XGBClassifier_model2078.sav'\n",
    "loaded_modeldt = pickle.load(open(filename, 'rb'))\n"
   ]
  },
  {
   "cell_type": "code",
   "execution_count": null,
   "metadata": {},
   "outputs": [],
   "source": [
    "y_preddt = loaded_modeldt.predict(X)\n",
    "y_preddt"
   ]
  },
  {
   "cell_type": "code",
   "execution_count": null,
   "metadata": {},
   "outputs": [],
   "source": [
    "sub = pd.read_csv('../submission files/gender_submission.csv', delimiter=',')\n",
    "sub"
   ]
  },
  {
   "cell_type": "code",
   "execution_count": null,
   "metadata": {},
   "outputs": [],
   "source": [
    "sub.drop(columns=['Survived'], inplace=True)"
   ]
  },
  {
   "cell_type": "code",
   "execution_count": null,
   "metadata": {},
   "outputs": [],
   "source": [
    "sub['Survived'] = y_preddt"
   ]
  },
  {
   "cell_type": "code",
   "execution_count": null,
   "metadata": {},
   "outputs": [],
   "source": [
    "sub\n",
    "sub.to_csv('../submission files/readyxgb2078.csv', index=False)"
   ]
  },
  {
   "cell_type": "markdown",
   "metadata": {},
   "source": [
    "# KNN"
   ]
  },
  {
   "cell_type": "code",
   "execution_count": null,
   "metadata": {},
   "outputs": [],
   "source": [
    "filename = '../KNN_model.sav'\n",
    "loaded_modelknn = pickle.load(open(filename, 'rb'))"
   ]
  },
  {
   "cell_type": "code",
   "execution_count": null,
   "metadata": {},
   "outputs": [],
   "source": [
    "y_predknn = loaded_modelknn.predict(X)\n",
    "y_predknn"
   ]
  },
  {
   "cell_type": "markdown",
   "metadata": {},
   "source": [
    "# LOGISTIC REGRESSION PREDICTION 76%"
   ]
  },
  {
   "cell_type": "code",
   "execution_count": null,
   "metadata": {},
   "outputs": [],
   "source": [
    "filename = 'LogisticRegression_model.sav'\n",
    "loaded_modelreg = pickle.load(open(filename, 'rb'))\n",
    "X"
   ]
  },
  {
   "cell_type": "code",
   "execution_count": null,
   "metadata": {},
   "outputs": [],
   "source": [
    "y_predreg = loaded_modelreg.predict(X)\n",
    "y_predreg"
   ]
  },
  {
   "cell_type": "code",
   "execution_count": null,
   "metadata": {},
   "outputs": [],
   "source": [
    "sub = pd.read_csv('../submission files/gender_submission.csv', delimiter=',')\n",
    "sub"
   ]
  },
  {
   "cell_type": "code",
   "execution_count": null,
   "metadata": {},
   "outputs": [],
   "source": [
    "sub.drop(columns=['Survived'], inplace=True)\n"
   ]
  },
  {
   "cell_type": "code",
   "execution_count": null,
   "metadata": {},
   "outputs": [],
   "source": [
    "sub['Survived'] = y_predknn"
   ]
  },
  {
   "cell_type": "code",
   "execution_count": null,
   "metadata": {},
   "outputs": [],
   "source": [
    "sub\n",
    "sub.to_csv('../submission files/readyknn.csv', index=False)"
   ]
  },
  {
   "cell_type": "code",
   "execution_count": null,
   "metadata": {},
   "outputs": [],
   "source": [
    "filename = 'XGBClassifier_model.sav'\n",
    "loaded_model = pickle.load(open(filename, 'rb'))\n",
    "X"
   ]
  },
  {
   "cell_type": "code",
   "execution_count": null,
   "metadata": {},
   "outputs": [],
   "source": [
    "xgb  = loaded_model.predict(X)\n",
    "xgb"
   ]
  },
  {
   "cell_type": "code",
   "execution_count": null,
   "metadata": {},
   "outputs": [],
   "source": [
    "filename = 'DecisionTree_model.sav'\n",
    "load_model = pickle.load(open(filename, 'rb'))\n"
   ]
  },
  {
   "cell_type": "code",
   "execution_count": null,
   "metadata": {},
   "outputs": [],
   "source": [
    "dstpredict = load_model.predict(X)"
   ]
  },
  {
   "cell_type": "code",
   "execution_count": null,
   "metadata": {},
   "outputs": [],
   "source": [
    "sub = pd.read_csv('gender_submission.csv', delimiter=',')\n",
    "sub.drop(columns=['Survived'], inplace=True)"
   ]
  },
  {
   "cell_type": "code",
   "execution_count": null,
   "metadata": {},
   "outputs": [],
   "source": [
    "sub['Survived'] = xgb"
   ]
  },
  {
   "cell_type": "code",
   "execution_count": null,
   "metadata": {},
   "outputs": [],
   "source": [
    "sub.to_csv('xgbready.csv', index=False)"
   ]
  },
  {
   "cell_type": "code",
   "execution_count": null,
   "metadata": {},
   "outputs": [],
   "source": [
    "filename = 'RandomForest_model.sav'\n",
    "load_randomf = pickle.load(open(filename, 'rb'))\n",
    "rf = load_randomf.predict(X)\n",
    "rf"
   ]
  },
  {
   "cell_type": "code",
   "execution_count": null,
   "metadata": {},
   "outputs": [],
   "source": [
    "filename = '../XGBClassifier80_model.sav'\n",
    "load_randomxg80 = pickle.load(open(filename, 'rb'))\n",
    "y_predxgb80 = load_randomxg80.predict(X)"
   ]
  },
  {
   "cell_type": "code",
   "execution_count": null,
   "metadata": {},
   "outputs": [],
   "source": [
    "sub = pd.read_csv('../submission files/gender_submission.csv', delimiter=',')\n",
    "sub.drop(columns=['Survived'], inplace=True)\n",
    "sub['Survived'] = y_predxgb80\n",
    "sub.to_csv('../submission files/readyxgb80.csv', index=False)"
   ]
  },
  {
   "cell_type": "code",
   "execution_count": null,
   "metadata": {},
   "outputs": [],
   "source": []
  }
 ],
 "metadata": {
  "kernelspec": {
   "display_name": "Python 3",
   "language": "python",
   "name": "python3"
  },
  "language_info": {
   "codemirror_mode": {
    "name": "ipython",
    "version": 3
   },
   "file_extension": ".py",
   "mimetype": "text/x-python",
   "name": "python",
   "nbconvert_exporter": "python",
   "pygments_lexer": "ipython3",
   "version": "3.6.7"
  }
 },
 "nbformat": 4,
 "nbformat_minor": 2
}
