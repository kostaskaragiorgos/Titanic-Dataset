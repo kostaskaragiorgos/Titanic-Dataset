{
 "cells": [
  {
   "cell_type": "code",
   "execution_count": 1,
   "metadata": {},
   "outputs": [
    {
     "name": "stderr",
     "output_type": "stream",
     "text": [
      "C:\\Users\\master\\Anaconda3\\lib\\site-packages\\dask\\config.py:168: YAMLLoadWarning: calling yaml.load() without Loader=... is deprecated, as the default Loader is unsafe. Please read https://msg.pyyaml.org/load for full details.\n",
      "  data = yaml.load(f.read()) or {}\n",
      "C:\\Users\\master\\Anaconda3\\lib\\site-packages\\dask\\dataframe\\utils.py:13: FutureWarning: pandas.util.testing is deprecated. Use the functions in the public API at pandas.testing instead.\n",
      "  import pandas.util.testing as tm\n",
      "C:\\Users\\master\\Anaconda3\\lib\\site-packages\\distributed\\config.py:20: YAMLLoadWarning: calling yaml.load() without Loader=... is deprecated, as the default Loader is unsafe. Please read https://msg.pyyaml.org/load for full details.\n",
      "  defaults = yaml.load(f)\n",
      "C:\\Users\\master\\Anaconda3\\lib\\site-packages\\h5py\\__init__.py:72: UserWarning: h5py is running against HDF5 1.10.2 when it was built against 1.10.3, this may cause problems\n",
      "  '{0}.{1}.{2}'.format(*version.hdf5_built_version_tuple)\n",
      "Using TensorFlow backend.\n"
     ]
    }
   ],
   "source": [
    "import pandas as pd\n",
    "import numpy as np\n",
    "import matplotlib.pyplot as plt\n",
    "from sklearn.impute import SimpleImputer\n",
    "from sklearn.preprocessing import OneHotEncoder\n",
    "from sklearn.compose import ColumnTransformer\n",
    "from sklearn.model_selection import train_test_split\n",
    "from sklearn.preprocessing import StandardScaler\n",
    "from sklearn.linear_model import LogisticRegression\n",
    "from sklearn.neighbors import KNeighborsClassifier\n",
    "from sklearn.svm import SVC\n",
    "from sklearn.naive_bayes import GaussianNB\n",
    "from sklearn.tree import DecisionTreeClassifier\n",
    "from sklearn.ensemble import RandomForestClassifier, VotingClassifier\n",
    "from xgboost import XGBClassifier\n",
    "from sklearn.metrics import confusion_matrix, accuracy_score\n",
    "import pickle\n",
    "from sklearn.neural_network import MLPClassifier\n",
    "import keras\n",
    "from keras.models import Sequential\n",
    "from keras.layers import Dense, Dropout, Activation,Flatten\n",
    "from keras.optimizers import SGD"
   ]
  },
  {
   "cell_type": "code",
   "execution_count": 2,
   "metadata": {},
   "outputs": [
    {
     "data": {
      "text/html": [
       "<div>\n",
       "<style scoped>\n",
       "    .dataframe tbody tr th:only-of-type {\n",
       "        vertical-align: middle;\n",
       "    }\n",
       "\n",
       "    .dataframe tbody tr th {\n",
       "        vertical-align: top;\n",
       "    }\n",
       "\n",
       "    .dataframe thead th {\n",
       "        text-align: right;\n",
       "    }\n",
       "</style>\n",
       "<table border=\"1\" class=\"dataframe\">\n",
       "  <thead>\n",
       "    <tr style=\"text-align: right;\">\n",
       "      <th></th>\n",
       "      <th>PassengerId</th>\n",
       "      <th>Pclass</th>\n",
       "      <th>Name</th>\n",
       "      <th>Sex</th>\n",
       "      <th>Age</th>\n",
       "      <th>SibSp</th>\n",
       "      <th>Parch</th>\n",
       "      <th>Ticket</th>\n",
       "      <th>Fare</th>\n",
       "      <th>Cabin</th>\n",
       "      <th>Embarked</th>\n",
       "    </tr>\n",
       "  </thead>\n",
       "  <tbody>\n",
       "    <tr>\n",
       "      <th>0</th>\n",
       "      <td>892</td>\n",
       "      <td>3</td>\n",
       "      <td>Kelly, Mr. James</td>\n",
       "      <td>male</td>\n",
       "      <td>34.5</td>\n",
       "      <td>0</td>\n",
       "      <td>0</td>\n",
       "      <td>330911</td>\n",
       "      <td>7.8292</td>\n",
       "      <td>NaN</td>\n",
       "      <td>Q</td>\n",
       "    </tr>\n",
       "    <tr>\n",
       "      <th>1</th>\n",
       "      <td>893</td>\n",
       "      <td>3</td>\n",
       "      <td>Wilkes, Mrs. James (Ellen Needs)</td>\n",
       "      <td>female</td>\n",
       "      <td>47.0</td>\n",
       "      <td>1</td>\n",
       "      <td>0</td>\n",
       "      <td>363272</td>\n",
       "      <td>7.0000</td>\n",
       "      <td>NaN</td>\n",
       "      <td>S</td>\n",
       "    </tr>\n",
       "    <tr>\n",
       "      <th>2</th>\n",
       "      <td>894</td>\n",
       "      <td>2</td>\n",
       "      <td>Myles, Mr. Thomas Francis</td>\n",
       "      <td>male</td>\n",
       "      <td>62.0</td>\n",
       "      <td>0</td>\n",
       "      <td>0</td>\n",
       "      <td>240276</td>\n",
       "      <td>9.6875</td>\n",
       "      <td>NaN</td>\n",
       "      <td>Q</td>\n",
       "    </tr>\n",
       "    <tr>\n",
       "      <th>3</th>\n",
       "      <td>895</td>\n",
       "      <td>3</td>\n",
       "      <td>Wirz, Mr. Albert</td>\n",
       "      <td>male</td>\n",
       "      <td>27.0</td>\n",
       "      <td>0</td>\n",
       "      <td>0</td>\n",
       "      <td>315154</td>\n",
       "      <td>8.6625</td>\n",
       "      <td>NaN</td>\n",
       "      <td>S</td>\n",
       "    </tr>\n",
       "    <tr>\n",
       "      <th>4</th>\n",
       "      <td>896</td>\n",
       "      <td>3</td>\n",
       "      <td>Hirvonen, Mrs. Alexander (Helga E Lindqvist)</td>\n",
       "      <td>female</td>\n",
       "      <td>22.0</td>\n",
       "      <td>1</td>\n",
       "      <td>1</td>\n",
       "      <td>3101298</td>\n",
       "      <td>12.2875</td>\n",
       "      <td>NaN</td>\n",
       "      <td>S</td>\n",
       "    </tr>\n",
       "  </tbody>\n",
       "</table>\n",
       "</div>"
      ],
      "text/plain": [
       "   PassengerId  Pclass                                          Name     Sex  \\\n",
       "0          892       3                              Kelly, Mr. James    male   \n",
       "1          893       3              Wilkes, Mrs. James (Ellen Needs)  female   \n",
       "2          894       2                     Myles, Mr. Thomas Francis    male   \n",
       "3          895       3                              Wirz, Mr. Albert    male   \n",
       "4          896       3  Hirvonen, Mrs. Alexander (Helga E Lindqvist)  female   \n",
       "\n",
       "    Age  SibSp  Parch   Ticket     Fare Cabin Embarked  \n",
       "0  34.5      0      0   330911   7.8292   NaN        Q  \n",
       "1  47.0      1      0   363272   7.0000   NaN        S  \n",
       "2  62.0      0      0   240276   9.6875   NaN        Q  \n",
       "3  27.0      0      0   315154   8.6625   NaN        S  \n",
       "4  22.0      1      1  3101298  12.2875   NaN        S  "
      ]
     },
     "execution_count": 2,
     "metadata": {},
     "output_type": "execute_result"
    }
   ],
   "source": [
    "df = pd.read_csv('../submission files/test.csv')\n",
    "df.head()"
   ]
  },
  {
   "cell_type": "code",
   "execution_count": 4,
   "metadata": {},
   "outputs": [
    {
     "name": "stdout",
     "output_type": "stream",
     "text": [
      "PassengerId      0\n",
      "Pclass           0\n",
      "Name             0\n",
      "Sex              0\n",
      "Age              0\n",
      "SibSp            0\n",
      "Parch            0\n",
      "Ticket           0\n",
      "Fare             0\n",
      "Cabin          327\n",
      "Embarked         0\n",
      "age_group        0\n",
      "Fare_group       0\n",
      "dtype: int64\n"
     ]
    },
    {
     "data": {
      "text/html": [
       "<div>\n",
       "<style scoped>\n",
       "    .dataframe tbody tr th:only-of-type {\n",
       "        vertical-align: middle;\n",
       "    }\n",
       "\n",
       "    .dataframe tbody tr th {\n",
       "        vertical-align: top;\n",
       "    }\n",
       "\n",
       "    .dataframe thead th {\n",
       "        text-align: right;\n",
       "    }\n",
       "</style>\n",
       "<table border=\"1\" class=\"dataframe\">\n",
       "  <thead>\n",
       "    <tr style=\"text-align: right;\">\n",
       "      <th></th>\n",
       "      <th>PassengerId</th>\n",
       "      <th>Pclass</th>\n",
       "      <th>Name</th>\n",
       "      <th>Sex</th>\n",
       "      <th>Age</th>\n",
       "      <th>SibSp</th>\n",
       "      <th>Parch</th>\n",
       "      <th>Ticket</th>\n",
       "      <th>Fare</th>\n",
       "      <th>Cabin</th>\n",
       "      <th>Embarked</th>\n",
       "      <th>age_group</th>\n",
       "      <th>Fare_group</th>\n",
       "    </tr>\n",
       "  </thead>\n",
       "  <tbody>\n",
       "    <tr>\n",
       "      <th>0</th>\n",
       "      <td>892</td>\n",
       "      <td>3</td>\n",
       "      <td>Kelly, Mr. James</td>\n",
       "      <td>male</td>\n",
       "      <td>34.50000</td>\n",
       "      <td>0</td>\n",
       "      <td>0</td>\n",
       "      <td>330911</td>\n",
       "      <td>7.8292</td>\n",
       "      <td>NaN</td>\n",
       "      <td>Q</td>\n",
       "      <td>adult</td>\n",
       "      <td>cheap</td>\n",
       "    </tr>\n",
       "    <tr>\n",
       "      <th>1</th>\n",
       "      <td>893</td>\n",
       "      <td>3</td>\n",
       "      <td>Wilkes, Mrs. James (Ellen Needs)</td>\n",
       "      <td>female</td>\n",
       "      <td>47.00000</td>\n",
       "      <td>1</td>\n",
       "      <td>0</td>\n",
       "      <td>363272</td>\n",
       "      <td>7.0000</td>\n",
       "      <td>NaN</td>\n",
       "      <td>S</td>\n",
       "      <td>adult</td>\n",
       "      <td>cheap</td>\n",
       "    </tr>\n",
       "    <tr>\n",
       "      <th>2</th>\n",
       "      <td>894</td>\n",
       "      <td>2</td>\n",
       "      <td>Myles, Mr. Thomas Francis</td>\n",
       "      <td>male</td>\n",
       "      <td>62.00000</td>\n",
       "      <td>0</td>\n",
       "      <td>0</td>\n",
       "      <td>240276</td>\n",
       "      <td>9.6875</td>\n",
       "      <td>NaN</td>\n",
       "      <td>Q</td>\n",
       "      <td>old</td>\n",
       "      <td>cheap</td>\n",
       "    </tr>\n",
       "    <tr>\n",
       "      <th>3</th>\n",
       "      <td>895</td>\n",
       "      <td>3</td>\n",
       "      <td>Wirz, Mr. Albert</td>\n",
       "      <td>male</td>\n",
       "      <td>27.00000</td>\n",
       "      <td>0</td>\n",
       "      <td>0</td>\n",
       "      <td>315154</td>\n",
       "      <td>8.6625</td>\n",
       "      <td>NaN</td>\n",
       "      <td>S</td>\n",
       "      <td>adult</td>\n",
       "      <td>cheap</td>\n",
       "    </tr>\n",
       "    <tr>\n",
       "      <th>4</th>\n",
       "      <td>896</td>\n",
       "      <td>3</td>\n",
       "      <td>Hirvonen, Mrs. Alexander (Helga E Lindqvist)</td>\n",
       "      <td>female</td>\n",
       "      <td>22.00000</td>\n",
       "      <td>1</td>\n",
       "      <td>1</td>\n",
       "      <td>3101298</td>\n",
       "      <td>12.2875</td>\n",
       "      <td>NaN</td>\n",
       "      <td>S</td>\n",
       "      <td>child</td>\n",
       "      <td>cheap</td>\n",
       "    </tr>\n",
       "    <tr>\n",
       "      <th>...</th>\n",
       "      <td>...</td>\n",
       "      <td>...</td>\n",
       "      <td>...</td>\n",
       "      <td>...</td>\n",
       "      <td>...</td>\n",
       "      <td>...</td>\n",
       "      <td>...</td>\n",
       "      <td>...</td>\n",
       "      <td>...</td>\n",
       "      <td>...</td>\n",
       "      <td>...</td>\n",
       "      <td>...</td>\n",
       "      <td>...</td>\n",
       "    </tr>\n",
       "    <tr>\n",
       "      <th>413</th>\n",
       "      <td>1305</td>\n",
       "      <td>3</td>\n",
       "      <td>Spector, Mr. Woolf</td>\n",
       "      <td>male</td>\n",
       "      <td>30.27259</td>\n",
       "      <td>0</td>\n",
       "      <td>0</td>\n",
       "      <td>A.5. 3236</td>\n",
       "      <td>8.0500</td>\n",
       "      <td>NaN</td>\n",
       "      <td>S</td>\n",
       "      <td>adult</td>\n",
       "      <td>cheap</td>\n",
       "    </tr>\n",
       "    <tr>\n",
       "      <th>414</th>\n",
       "      <td>1306</td>\n",
       "      <td>1</td>\n",
       "      <td>Oliva y Ocana, Dona. Fermina</td>\n",
       "      <td>female</td>\n",
       "      <td>39.00000</td>\n",
       "      <td>0</td>\n",
       "      <td>0</td>\n",
       "      <td>PC 17758</td>\n",
       "      <td>108.9000</td>\n",
       "      <td>C105</td>\n",
       "      <td>C</td>\n",
       "      <td>adult</td>\n",
       "      <td>cheap</td>\n",
       "    </tr>\n",
       "    <tr>\n",
       "      <th>415</th>\n",
       "      <td>1307</td>\n",
       "      <td>3</td>\n",
       "      <td>Saether, Mr. Simon Sivertsen</td>\n",
       "      <td>male</td>\n",
       "      <td>38.50000</td>\n",
       "      <td>0</td>\n",
       "      <td>0</td>\n",
       "      <td>SOTON/O.Q. 3101262</td>\n",
       "      <td>7.2500</td>\n",
       "      <td>NaN</td>\n",
       "      <td>S</td>\n",
       "      <td>adult</td>\n",
       "      <td>cheap</td>\n",
       "    </tr>\n",
       "    <tr>\n",
       "      <th>416</th>\n",
       "      <td>1308</td>\n",
       "      <td>3</td>\n",
       "      <td>Ware, Mr. Frederick</td>\n",
       "      <td>male</td>\n",
       "      <td>30.27259</td>\n",
       "      <td>0</td>\n",
       "      <td>0</td>\n",
       "      <td>359309</td>\n",
       "      <td>8.0500</td>\n",
       "      <td>NaN</td>\n",
       "      <td>S</td>\n",
       "      <td>adult</td>\n",
       "      <td>cheap</td>\n",
       "    </tr>\n",
       "    <tr>\n",
       "      <th>417</th>\n",
       "      <td>1309</td>\n",
       "      <td>3</td>\n",
       "      <td>Peter, Master. Michael J</td>\n",
       "      <td>male</td>\n",
       "      <td>30.27259</td>\n",
       "      <td>1</td>\n",
       "      <td>1</td>\n",
       "      <td>2668</td>\n",
       "      <td>22.3583</td>\n",
       "      <td>NaN</td>\n",
       "      <td>C</td>\n",
       "      <td>adult</td>\n",
       "      <td>cheap</td>\n",
       "    </tr>\n",
       "  </tbody>\n",
       "</table>\n",
       "<p>418 rows × 13 columns</p>\n",
       "</div>"
      ],
      "text/plain": [
       "     PassengerId  Pclass                                          Name  \\\n",
       "0            892       3                              Kelly, Mr. James   \n",
       "1            893       3              Wilkes, Mrs. James (Ellen Needs)   \n",
       "2            894       2                     Myles, Mr. Thomas Francis   \n",
       "3            895       3                              Wirz, Mr. Albert   \n",
       "4            896       3  Hirvonen, Mrs. Alexander (Helga E Lindqvist)   \n",
       "..           ...     ...                                           ...   \n",
       "413         1305       3                            Spector, Mr. Woolf   \n",
       "414         1306       1                  Oliva y Ocana, Dona. Fermina   \n",
       "415         1307       3                  Saether, Mr. Simon Sivertsen   \n",
       "416         1308       3                           Ware, Mr. Frederick   \n",
       "417         1309       3                      Peter, Master. Michael J   \n",
       "\n",
       "        Sex       Age  SibSp  Parch              Ticket      Fare Cabin  \\\n",
       "0      male  34.50000      0      0              330911    7.8292   NaN   \n",
       "1    female  47.00000      1      0              363272    7.0000   NaN   \n",
       "2      male  62.00000      0      0              240276    9.6875   NaN   \n",
       "3      male  27.00000      0      0              315154    8.6625   NaN   \n",
       "4    female  22.00000      1      1             3101298   12.2875   NaN   \n",
       "..      ...       ...    ...    ...                 ...       ...   ...   \n",
       "413    male  30.27259      0      0           A.5. 3236    8.0500   NaN   \n",
       "414  female  39.00000      0      0            PC 17758  108.9000  C105   \n",
       "415    male  38.50000      0      0  SOTON/O.Q. 3101262    7.2500   NaN   \n",
       "416    male  30.27259      0      0              359309    8.0500   NaN   \n",
       "417    male  30.27259      1      1                2668   22.3583   NaN   \n",
       "\n",
       "    Embarked age_group Fare_group  \n",
       "0          Q     adult      cheap  \n",
       "1          S     adult      cheap  \n",
       "2          Q       old      cheap  \n",
       "3          S     adult      cheap  \n",
       "4          S     child      cheap  \n",
       "..       ...       ...        ...  \n",
       "413        S     adult      cheap  \n",
       "414        C     adult      cheap  \n",
       "415        S     adult      cheap  \n",
       "416        S     adult      cheap  \n",
       "417        C     adult      cheap  \n",
       "\n",
       "[418 rows x 13 columns]"
      ]
     },
     "execution_count": 4,
     "metadata": {},
     "output_type": "execute_result"
    }
   ],
   "source": [
    "df ['Age'] = df['Age'].fillna(df['Age'].mean())\n",
    "df['Fare'] = df['Fare'].fillna(df['Fare'].mean())\n",
    "df.isnull().sum()\n",
    "labels = ['child','adult','old']\n",
    "df['age_group'] = pd.cut(df['Age'], bins=3, labels=labels)\n",
    "df['age_group']= df['age_group'].fillna('adult')\n",
    "labelsfare = ['cheap', 'normal', 'expensive']\n",
    "df['Fare_group'] = pd.cut(df['Fare'], bins=3, labels=labelsfare)\n",
    "df['Fare_group']= df['Fare_group'].fillna('cheap')\n",
    "print(df.isnull().sum())\n",
    "df"
   ]
  },
  {
   "cell_type": "code",
   "execution_count": 5,
   "metadata": {},
   "outputs": [],
   "source": [
    "df.drop(columns=['PassengerId', 'Name', 'Cabin', 'Embarked', 'Ticket','Fare', 'Age'], inplace=True)"
   ]
  },
  {
   "cell_type": "code",
   "execution_count": null,
   "metadata": {},
   "outputs": [],
   "source": [
    "df"
   ]
  },
  {
   "cell_type": "code",
   "execution_count": 5,
   "metadata": {},
   "outputs": [
    {
     "data": {
      "text/html": [
       "<div>\n",
       "<style scoped>\n",
       "    .dataframe tbody tr th:only-of-type {\n",
       "        vertical-align: middle;\n",
       "    }\n",
       "\n",
       "    .dataframe tbody tr th {\n",
       "        vertical-align: top;\n",
       "    }\n",
       "\n",
       "    .dataframe thead th {\n",
       "        text-align: right;\n",
       "    }\n",
       "</style>\n",
       "<table border=\"1\" class=\"dataframe\">\n",
       "  <thead>\n",
       "    <tr style=\"text-align: right;\">\n",
       "      <th></th>\n",
       "      <th>Pclass</th>\n",
       "      <th>Sex</th>\n",
       "      <th>age_group</th>\n",
       "      <th>Fare_group</th>\n",
       "      <th>FamilySize</th>\n",
       "      <th>IsAlone</th>\n",
       "    </tr>\n",
       "  </thead>\n",
       "  <tbody>\n",
       "    <tr>\n",
       "      <th>0</th>\n",
       "      <td>3</td>\n",
       "      <td>male</td>\n",
       "      <td>adult</td>\n",
       "      <td>cheap</td>\n",
       "      <td>1</td>\n",
       "      <td>1.0</td>\n",
       "    </tr>\n",
       "    <tr>\n",
       "      <th>1</th>\n",
       "      <td>3</td>\n",
       "      <td>female</td>\n",
       "      <td>adult</td>\n",
       "      <td>cheap</td>\n",
       "      <td>2</td>\n",
       "      <td>0.0</td>\n",
       "    </tr>\n",
       "    <tr>\n",
       "      <th>2</th>\n",
       "      <td>2</td>\n",
       "      <td>male</td>\n",
       "      <td>old</td>\n",
       "      <td>cheap</td>\n",
       "      <td>1</td>\n",
       "      <td>1.0</td>\n",
       "    </tr>\n",
       "    <tr>\n",
       "      <th>3</th>\n",
       "      <td>3</td>\n",
       "      <td>male</td>\n",
       "      <td>adult</td>\n",
       "      <td>cheap</td>\n",
       "      <td>1</td>\n",
       "      <td>1.0</td>\n",
       "    </tr>\n",
       "    <tr>\n",
       "      <th>4</th>\n",
       "      <td>3</td>\n",
       "      <td>female</td>\n",
       "      <td>child</td>\n",
       "      <td>cheap</td>\n",
       "      <td>3</td>\n",
       "      <td>0.0</td>\n",
       "    </tr>\n",
       "    <tr>\n",
       "      <th>...</th>\n",
       "      <td>...</td>\n",
       "      <td>...</td>\n",
       "      <td>...</td>\n",
       "      <td>...</td>\n",
       "      <td>...</td>\n",
       "      <td>...</td>\n",
       "    </tr>\n",
       "    <tr>\n",
       "      <th>413</th>\n",
       "      <td>3</td>\n",
       "      <td>male</td>\n",
       "      <td>adult</td>\n",
       "      <td>cheap</td>\n",
       "      <td>1</td>\n",
       "      <td>1.0</td>\n",
       "    </tr>\n",
       "    <tr>\n",
       "      <th>414</th>\n",
       "      <td>1</td>\n",
       "      <td>female</td>\n",
       "      <td>adult</td>\n",
       "      <td>cheap</td>\n",
       "      <td>1</td>\n",
       "      <td>1.0</td>\n",
       "    </tr>\n",
       "    <tr>\n",
       "      <th>415</th>\n",
       "      <td>3</td>\n",
       "      <td>male</td>\n",
       "      <td>adult</td>\n",
       "      <td>cheap</td>\n",
       "      <td>1</td>\n",
       "      <td>1.0</td>\n",
       "    </tr>\n",
       "    <tr>\n",
       "      <th>416</th>\n",
       "      <td>3</td>\n",
       "      <td>male</td>\n",
       "      <td>adult</td>\n",
       "      <td>cheap</td>\n",
       "      <td>1</td>\n",
       "      <td>1.0</td>\n",
       "    </tr>\n",
       "    <tr>\n",
       "      <th>417</th>\n",
       "      <td>3</td>\n",
       "      <td>male</td>\n",
       "      <td>adult</td>\n",
       "      <td>cheap</td>\n",
       "      <td>3</td>\n",
       "      <td>0.0</td>\n",
       "    </tr>\n",
       "  </tbody>\n",
       "</table>\n",
       "<p>418 rows × 6 columns</p>\n",
       "</div>"
      ],
      "text/plain": [
       "     Pclass     Sex age_group Fare_group  FamilySize  IsAlone\n",
       "0         3    male     adult      cheap           1      1.0\n",
       "1         3  female     adult      cheap           2      0.0\n",
       "2         2    male       old      cheap           1      1.0\n",
       "3         3    male     adult      cheap           1      1.0\n",
       "4         3  female     child      cheap           3      0.0\n",
       "..      ...     ...       ...        ...         ...      ...\n",
       "413       3    male     adult      cheap           1      1.0\n",
       "414       1  female     adult      cheap           1      1.0\n",
       "415       3    male     adult      cheap           1      1.0\n",
       "416       3    male     adult      cheap           1      1.0\n",
       "417       3    male     adult      cheap           3      0.0\n",
       "\n",
       "[418 rows x 6 columns]"
      ]
     },
     "execution_count": 5,
     "metadata": {},
     "output_type": "execute_result"
    }
   ],
   "source": [
    "df['FamilySize'] = df['SibSp'] + df['Parch'] + 1\n",
    "df.loc[df['FamilySize'] == 1, 'IsAlone'] = 1\n",
    "df['IsAlone']= df['IsAlone'].fillna(0)\n",
    "df.drop(columns=['SibSp', 'Parch', ], inplace=True)\n",
    "df"
   ]
  },
  {
   "cell_type": "code",
   "execution_count": 6,
   "metadata": {},
   "outputs": [
    {
     "data": {
      "text/plain": [
       "array([[3, 'male', 0, 0, 'adult', 'cheap'],\n",
       "       [3, 'female', 1, 0, 'adult', 'cheap'],\n",
       "       [2, 'male', 0, 0, 'old', 'cheap'],\n",
       "       ...,\n",
       "       [3, 'male', 0, 0, 'adult', 'cheap'],\n",
       "       [3, 'male', 0, 0, 'adult', 'cheap'],\n",
       "       [3, 'male', 1, 1, 'adult', 'cheap']], dtype=object)"
      ]
     },
     "execution_count": 6,
     "metadata": {},
     "output_type": "execute_result"
    }
   ],
   "source": [
    "X = df.iloc[:,:].values\n",
    "X"
   ]
  },
  {
   "cell_type": "code",
   "execution_count": 7,
   "metadata": {},
   "outputs": [
    {
     "name": "stdout",
     "output_type": "stream",
     "text": [
      "[[0.0 1.0 1.0 ... 3 0 0]\n",
      " [1.0 0.0 1.0 ... 3 1 0]\n",
      " [0.0 1.0 0.0 ... 2 0 0]\n",
      " ...\n",
      " [0.0 1.0 1.0 ... 3 0 0]\n",
      " [0.0 1.0 1.0 ... 3 0 0]\n",
      " [0.0 1.0 1.0 ... 3 1 1]]\n"
     ]
    }
   ],
   "source": [
    "ct = ColumnTransformer(transformers=[('encoder', OneHotEncoder(), [1,4,-1])], remainder='passthrough')\n",
    "X = np.array(ct.fit_transform(X))\n",
    "print(X)"
   ]
  },
  {
   "cell_type": "code",
   "execution_count": 8,
   "metadata": {},
   "outputs": [
    {
     "data": {
      "text/plain": [
       "array([[0.0, 1.0, 0.8403109239915862, ..., 0.8734819050636105,\n",
       "        -0.4994700165357186, -0.4002477016385638],\n",
       "       [1.0, 0.0, 0.8403109239915862, ..., 0.8734819050636105,\n",
       "        0.6169923733676523, -0.4002477016385638],\n",
       "       [0.0, 1.0, -1.1900357016065817, ..., -0.3158191904301653,\n",
       "        -0.4994700165357186, -0.4002477016385638],\n",
       "       ...,\n",
       "       [0.0, 1.0, 0.8403109239915862, ..., 0.8734819050636105,\n",
       "        -0.4994700165357186, -0.4002477016385638],\n",
       "       [0.0, 1.0, 0.8403109239915862, ..., 0.8734819050636105,\n",
       "        -0.4994700165357186, -0.4002477016385638],\n",
       "       [0.0, 1.0, 0.8403109239915862, ..., 0.8734819050636105,\n",
       "        0.6169923733676523, 0.6198958305865561]], dtype=object)"
      ]
     },
     "execution_count": 8,
     "metadata": {},
     "output_type": "execute_result"
    }
   ],
   "source": [
    "sc = StandardScaler()\n",
    "X[:, 2:] = sc.fit_transform(X[:, 2:])\n",
    "X"
   ]
  },
  {
   "cell_type": "code",
   "execution_count": 56,
   "metadata": {},
   "outputs": [],
   "source": [
    "filename = '../titanic600.sav'\n",
    "loaded_modelmlp = pickle.load(open(filename, 'rb'))"
   ]
  },
  {
   "cell_type": "code",
   "execution_count": 57,
   "metadata": {},
   "outputs": [
    {
     "name": "stdout",
     "output_type": "stream",
     "text": [
      "[[0.1854683756828308], [0.8036348819732666], [0.1413656771183014], [0.1854683756828308], [0.8144630193710327], [0.16794468462467194], [0.18297068774700165], [0.1703503131866455], [0.6316170692443848], [0.1794372797012329], [0.1854683756828308], [0.44987937808036804], [0.8309708833694458], [0.17921915650367737], [0.8177700042724609], [0.7621287107467651], [0.19809643924236298], [0.16794468462467194], [0.8036348819732666], [0.18297068774700165], [0.15588420629501343], [0.45179125666618347], [0.8341443538665771], [0.37014442682266235], [0.8338358402252197], [0.149870365858078], [0.8344404697418213], [0.16794468462467194], [0.44987937808036804], [0.15146243572235107], [0.1632811725139618], [0.16367670893669128], [0.2037244737148285], [0.2037244737148285], [0.3180578351020813], [0.16794468462467194], [0.18297068774700165], [0.6316170692443848], [0.16794468462467194], [0.1854683756828308], [0.1824374496936798], [0.44987937808036804], [0.1854683756828308], [0.8228616714477539], [0.8177700042724609], [0.16794468462467194], [0.44987937808036804], [0.1854683756828308], [0.6556470990180969], [0.44366222620010376], [0.19659635424613953], [0.19809643924236298], [0.7759842872619629], [0.8266212940216064], [0.19809643924236298], [0.13819047808647156], [0.1854683756828308], [0.16794468462467194], [0.149870365858078], [0.8166651725769043], [0.16794468462467194], [0.19809643924236298], [0.16794466972351074], [0.6316170692443848], [0.10507873445749283], [0.8228616714477539], [0.6316170692443848], [0.44987937808036804], [0.44987937808036804], [0.8341147899627686], [0.6316170692443848], [0.16794468462467194], [0.18297068774700165], [0.44987937808036804], [0.8166651725769043], [0.15988075733184814], [0.1854683756828308], [0.8328853845596313], [0.19809643924236298], [0.6316170692443848], [0.6532727479934692], [0.10142891108989716], [0.44987937808036804], [0.1854683756828308], [0.19809643924236298], [0.149870365858078], [0.18297068774700165], [0.6316170692443848], [0.18297068774700165], [0.7485208511352539], [0.6290192008018494], [0.1854683756828308], [0.8342382907867432], [0.1854683756828308], [0.1752418875694275], [0.16794466972351074], [0.8244086503982544], [0.1854683756828308], [0.6316170692443848], [0.1854683756828308], [0.8177700042724609], [0.1632811427116394], [0.1854683756828308], [0.1854683756828308], [0.8144630193710327], [0.1854683756828308], [0.16794468462467194], [0.1854683756828308], [0.1854683756828308], [0.1724264919757843], [0.19809643924236298], [0.18297068774700165], [0.8341443538665771], [0.6316170692443848], [0.8368101119995117], [0.18396849930286407], [0.1854683756828308], [0.8144630193710327], [0.44987937808036804], [0.6412340402603149], [0.691663384437561], [0.149870365858078], [0.8177700042724609], [0.1854683756828308], [0.1854683756828308], [0.45419591665267944], [0.16794466972351074], [0.8328520059585571], [0.19809643924236298], [0.16794468462467194], [0.1854683756828308], [0.14981487393379211], [0.16116076707839966], [0.149870365858078], [0.1854683756828308], [0.16794468462467194], [0.1854683756828308], [0.19809643924236298], [0.6316170692443848], [0.08300556242465973], [0.10454171895980835], [0.8341443538665771], [0.09094260632991791], [0.19809643924236298], [0.44987937808036804], [0.16334104537963867], [0.44987937808036804], [0.16794468462467194], [0.44987937808036804], [0.1703503131866455], [0.8344404697418213], [0.1854683756828308], [0.12273134291172028], [0.44366222620010376], [0.13714081048965454], [0.16794468462467194], [0.8166651725769043], [0.6316170692443848], [0.44987934827804565], [0.44366222620010376], [0.18297068774700165], [0.6532727479934692], [0.8228616714477539], [0.1854683756828308], [0.19809643924236298], [0.41878974437713623], [0.44987937808036804], [0.15306824445724487], [0.8341443538665771], [0.6316170692443848], [0.1854683756828308], [0.1854683756828308], [0.18396849930286407], [0.1854683756828308], [0.10268686711788177], [0.8224847316741943], [0.691663384437561], [0.15588420629501343], [0.8093727827072144], [0.8176629543304443], [0.19809643924236298], [0.198894202709198], [0.8309708833694458], [0.1854683756828308], [0.8342843055725098], [0.19809643924236298], [0.8219451904296875], [0.1794372797012329], [0.024142012000083923], [0.19809643924236298], [0.1632811725139618], [0.44987934827804565], [0.6532727479934692], [0.1413656771183014], [0.8247268199920654], [0.1854683756828308], [0.7510004043579102], [0.6316170692443848], [0.1724264919757843], [0.18297068774700165], [0.18297068774700165], [0.8236199617385864], [0.15526419878005981], [0.6970517635345459], [0.1724264919757843], [0.44987937808036804], [0.18297068774700165], [0.1724264919757843], [0.8341443538665771], [0.16794468462467194], [0.1854683756828308], [0.1854683756828308], [0.1724264919757843], [0.7923785448074341], [0.1367899477481842], [0.44987937808036804], [0.18297068774700165], [0.1792888045310974], [0.8342843055725098], [0.1854683756828308], [0.6412340402603149], [0.16794468462467194], [0.691663384437561], [0.16794466972351074], [0.6556470990180969], [0.44366222620010376], [0.16794468462467194], [0.18297068774700165], [0.1854683756828308], [0.19809643924236298], [0.1724264919757843], [0.7664763927459717], [0.18396849930286407], [0.1854683756828308], [0.3180578351020813], [0.16794468462467194], [0.15588420629501343], [0.16794468462467194], [0.6970517635345459], [0.8177700042724609], [0.6556470990180969], [0.7153850793838501], [0.198894202709198], [0.1854683756828308], [0.13432803750038147], [0.3180578351020813], [0.691663384437561], [0.1703503131866455], [0.6412340402603149], [0.8036348819732666], [0.8191498517990112], [0.16794468462467194], [0.3180578351020813], [0.16794468462467194], [0.1854683756828308], [0.1854683756828308], [0.1854683756828308], [0.1854683756828308], [0.691663384437561], [0.16794468462467194], [0.149870365858078], [0.16794468462467194], [0.7153850793838501], [0.8144630193710327], [0.19809643924236298], [0.1854683756828308], [0.44987937808036804], [0.1854683756828308], [0.18297068774700165], [0.16794468462467194], [0.44987937808036804], [0.1854683756828308], [0.8177700042724609], [0.8036348819732666], [0.1854683756828308], [0.7621287107467651], [0.19809643924236298], [0.1632811427116394], [0.1632811427116394], [0.1724264919757843], [0.6316170692443848], [0.6532727479934692], [0.18297068774700165], [0.8144630193710327], [0.8144630193710327], [0.1854683756828308], [0.1854683756828308], [0.19659633934497833], [0.1854683756828308], [0.1854683756828308], [0.44987937808036804], [0.18297068774700165], [0.1854683756828308], [0.1792888045310974], [0.1854683756828308], [0.1854683756828308], [0.8191498517990112], [0.15146243572235107], [0.44987937808036804], [0.1854683756828308], [0.1854683756828308], [0.19809643924236298], [0.16623719036579132], [0.16794468462467194], [0.18297068774700165], [0.8342081308364868], [0.7935715913772583], [0.45179125666618347], [0.1792888045310974], [0.8036348819732666], [0.16794468462467194], [0.16794468462467194], [0.1854683756828308], [0.18297068774700165], [0.6556470990180969], [0.6316170692443848], [0.15588420629501343], [0.1724264919757843], [0.1854683756828308], [0.16367670893669128], [0.1854683756828308], [0.16794468462467194], [0.19809643924236298], [0.44987937808036804], [0.8166651725769043], [0.16794468462467194], [0.7759842872619629], [0.44987937808036804], [0.1632811427116394], [0.1724264919757843], [0.7153850793838501], [0.44987937808036804], [0.1854683756828308], [0.8144630193710327], [0.1854683756828308], [0.44987937808036804], [0.19809643924236298], [0.1677188277244568], [0.1724264919757843], [0.1854683756828308], [0.1724264919757843], [0.1854683756828308], [0.023401543498039246], [0.10751205682754517], [0.14273510873317719], [0.6316170692443848], [0.19809643924236298], [0.18297068774700165], [0.1724264919757843], [0.8228616714477539], [0.8174396753311157], [0.1724264919757843], [0.1724264919757843], [0.17186899483203888], [0.8326206207275391], [0.44987937808036804], [0.8328853845596313], [0.1854683756828308], [0.1854683756828308], [0.8036348819732666], [0.11892484873533249], [0.6970517635345459], [0.8228616714477539], [0.1854683756828308], [0.8309708833694458], [0.034308820962905884], [0.149870365858078], [0.6316170692443848], [0.8174396753311157], [0.19809643924236298], [0.19030910730361938], [0.8341443538665771], [0.44987937808036804], [0.19809643924236298], [0.8342081308364868], [0.8166651725769043], [0.16729897260665894], [0.1724264919757843], [0.14981487393379211], [0.13714081048965454], [0.1854683756828308], [0.1854683756828308], [0.18297068774700165], [0.6290192008018494], [0.19809643924236298], [0.8191498517990112], [0.16794468462467194], [0.1413656771183014], [0.16794468462467194], [0.13011401891708374], [0.17524190247058868], [0.7472966909408569], [0.8236199617385864], [0.19809643924236298], [0.15113860368728638], [0.8309708833694458], [0.16794468462467194], [0.8191699981689453], [0.16794468462467194], [0.1854683756828308], [0.8341443538665771], [0.1632811427116394], [0.8344404697418213], [0.17524190247058868], [0.3180578351020813], [0.1724264919757843], [0.19030910730361938], [0.1430066078901291], [0.18297068774700165], [0.8144630193710327], [0.18297068774700165], [0.8177700042724609], [0.18297068774700165], [0.1854683756828308], [0.8341443538665771], [0.1854683756828308], [0.1854683756828308], [0.14273512363433838]]\n"
     ]
    }
   ],
   "source": [
    "predictions= loaded_modelmlp.predict(X).tolist()\n",
    "print(predictions)"
   ]
  },
  {
   "cell_type": "code",
   "execution_count": 26,
   "metadata": {},
   "outputs": [],
   "source": [
    "filename = '../MLPClassifier30854.sav'\n",
    "loaded_modelmlp = pickle.load(open(filename, 'rb'))"
   ]
  },
  {
   "cell_type": "code",
   "execution_count": 58,
   "metadata": {},
   "outputs": [
    {
     "name": "stdout",
     "output_type": "stream",
     "text": [
      "0       [0.1854683756828308]\n",
      "1       [0.8036348819732666]\n",
      "2       [0.1413656771183014]\n",
      "3       [0.1854683756828308]\n",
      "4       [0.8144630193710327]\n",
      "               ...          \n",
      "413     [0.1854683756828308]\n",
      "414     [0.8341443538665771]\n",
      "415     [0.1854683756828308]\n",
      "416     [0.1854683756828308]\n",
      "417    [0.14273512363433838]\n",
      "Length: 418, dtype: object\n"
     ]
    }
   ],
   "source": [
    "se = pd.Series(predictions)\n",
    "df['check'] = se\n",
    "df['check'] = df['check'].str.get(0)\n",
    "print(se)\n",
    "finaldf = []\n",
    "for val in df.check:\n",
    "    if val >= 0.5:\n",
    "        finaldf.append(1)\n",
    "    else:\n",
    "        finaldf.append(0)"
   ]
  },
  {
   "cell_type": "code",
   "execution_count": 59,
   "metadata": {},
   "outputs": [],
   "source": [
    "sub['Survived'] = finaldf\n",
    "sub\n",
    "sub.to_csv('../submission files/readymodelker600.csv', index=False)"
   ]
  },
  {
   "cell_type": "code",
   "execution_count": null,
   "metadata": {},
   "outputs": [],
   "source": [
    "filename = '../models/RandomForestClassifier_model2079.sav'\n",
    "loaded_modelrfc = pickle.load(open(filename, 'rb'))"
   ]
  },
  {
   "cell_type": "code",
   "execution_count": 27,
   "metadata": {},
   "outputs": [],
   "source": [
    "y_predrf = loaded_modelmlp.predict(X)"
   ]
  },
  {
   "cell_type": "code",
   "execution_count": 13,
   "metadata": {},
   "outputs": [],
   "source": [
    "sub = pd.read_csv('../submission files/gender_submission.csv', delimiter=',')\n",
    "sub.drop(columns=['Survived'], inplace=True)"
   ]
  },
  {
   "cell_type": "code",
   "execution_count": null,
   "metadata": {},
   "outputs": [],
   "source": []
  },
  {
   "cell_type": "code",
   "execution_count": 29,
   "metadata": {},
   "outputs": [],
   "source": [
    "sub['Survived'] = y_predrf\n",
    "sub\n",
    "sub.to_csv('../submission files/readymlp30854.csv', index=False)"
   ]
  },
  {
   "cell_type": "code",
   "execution_count": null,
   "metadata": {},
   "outputs": [],
   "source": [
    "filename = '../models/RandomForestClassifier_model2079.sav'\n",
    "loaded_modelxgb = pickle.load(open(filename, 'rb'))"
   ]
  },
  {
   "cell_type": "code",
   "execution_count": null,
   "metadata": {},
   "outputs": [],
   "source": [
    "y_predrf = loaded_modelxgb.predict(X)"
   ]
  },
  {
   "cell_type": "code",
   "execution_count": null,
   "metadata": {},
   "outputs": [],
   "source": [
    "sub = pd.read_csv('../submission files/gender_submission.csv', delimiter=',')\n",
    "sub.drop(columns=['Survived'], inplace=True)"
   ]
  },
  {
   "cell_type": "code",
   "execution_count": null,
   "metadata": {},
   "outputs": [],
   "source": [
    "sub['Survived'] = y_predrf\n",
    "sub\n",
    "sub.to_csv('../submission files/readyrf2078.csv', index=False)"
   ]
  },
  {
   "cell_type": "markdown",
   "metadata": {},
   "source": [
    "#  Decision Tree 78"
   ]
  },
  {
   "cell_type": "code",
   "execution_count": null,
   "metadata": {},
   "outputs": [],
   "source": [
    "filename = '../models/XGBClassifier_model2078.sav'\n",
    "loaded_modeldt = pickle.load(open(filename, 'rb'))\n"
   ]
  },
  {
   "cell_type": "code",
   "execution_count": null,
   "metadata": {},
   "outputs": [],
   "source": [
    "y_preddt = loaded_modeldt.predict(X)\n",
    "y_preddt"
   ]
  },
  {
   "cell_type": "code",
   "execution_count": null,
   "metadata": {},
   "outputs": [],
   "source": [
    "sub = pd.read_csv('../submission files/gender_submission.csv', delimiter=',')\n",
    "sub"
   ]
  },
  {
   "cell_type": "code",
   "execution_count": null,
   "metadata": {},
   "outputs": [],
   "source": [
    "sub.drop(columns=['Survived'], inplace=True)"
   ]
  },
  {
   "cell_type": "code",
   "execution_count": null,
   "metadata": {},
   "outputs": [],
   "source": [
    "sub['Survived'] = y_preddt"
   ]
  },
  {
   "cell_type": "code",
   "execution_count": null,
   "metadata": {},
   "outputs": [],
   "source": [
    "sub\n",
    "sub.to_csv('../submission files/readyxgb2078.csv', index=False)"
   ]
  },
  {
   "cell_type": "markdown",
   "metadata": {},
   "source": [
    "# KNN"
   ]
  },
  {
   "cell_type": "code",
   "execution_count": null,
   "metadata": {},
   "outputs": [],
   "source": [
    "filename = '../KNN_model.sav'\n",
    "loaded_modelknn = pickle.load(open(filename, 'rb'))"
   ]
  },
  {
   "cell_type": "code",
   "execution_count": null,
   "metadata": {},
   "outputs": [],
   "source": [
    "y_predknn = loaded_modelknn.predict(X)\n",
    "y_predknn"
   ]
  },
  {
   "cell_type": "markdown",
   "metadata": {},
   "source": [
    "# LOGISTIC REGRESSION PREDICTION 76%"
   ]
  },
  {
   "cell_type": "code",
   "execution_count": null,
   "metadata": {},
   "outputs": [],
   "source": [
    "filename = 'LogisticRegression_model.sav'\n",
    "loaded_modelreg = pickle.load(open(filename, 'rb'))\n",
    "X"
   ]
  },
  {
   "cell_type": "code",
   "execution_count": null,
   "metadata": {},
   "outputs": [],
   "source": [
    "y_predreg = loaded_modelreg.predict(X)\n",
    "y_predreg"
   ]
  },
  {
   "cell_type": "code",
   "execution_count": null,
   "metadata": {},
   "outputs": [],
   "source": [
    "sub = pd.read_csv('../submission files/gender_submission.csv', delimiter=',')\n",
    "sub"
   ]
  },
  {
   "cell_type": "code",
   "execution_count": null,
   "metadata": {},
   "outputs": [],
   "source": [
    "sub.drop(columns=['Survived'], inplace=True)\n"
   ]
  },
  {
   "cell_type": "code",
   "execution_count": null,
   "metadata": {},
   "outputs": [],
   "source": [
    "sub['Survived'] = y_predknn"
   ]
  },
  {
   "cell_type": "code",
   "execution_count": null,
   "metadata": {},
   "outputs": [],
   "source": [
    "sub\n",
    "sub.to_csv('../submission files/readyknn.csv', index=False)"
   ]
  },
  {
   "cell_type": "code",
   "execution_count": null,
   "metadata": {},
   "outputs": [],
   "source": [
    "filename = 'XGBClassifier_model.sav'\n",
    "loaded_model = pickle.load(open(filename, 'rb'))\n",
    "X"
   ]
  },
  {
   "cell_type": "code",
   "execution_count": null,
   "metadata": {},
   "outputs": [],
   "source": [
    "xgb  = loaded_model.predict(X)\n",
    "xgb"
   ]
  },
  {
   "cell_type": "code",
   "execution_count": null,
   "metadata": {},
   "outputs": [],
   "source": [
    "filename = 'DecisionTree_model.sav'\n",
    "load_model = pickle.load(open(filename, 'rb'))\n"
   ]
  },
  {
   "cell_type": "code",
   "execution_count": null,
   "metadata": {},
   "outputs": [],
   "source": [
    "dstpredict = load_model.predict(X)"
   ]
  },
  {
   "cell_type": "code",
   "execution_count": null,
   "metadata": {},
   "outputs": [],
   "source": [
    "sub = pd.read_csv('gender_submission.csv', delimiter=',')\n",
    "sub.drop(columns=['Survived'], inplace=True)"
   ]
  },
  {
   "cell_type": "code",
   "execution_count": null,
   "metadata": {},
   "outputs": [],
   "source": [
    "sub['Survived'] = xgb"
   ]
  },
  {
   "cell_type": "code",
   "execution_count": null,
   "metadata": {},
   "outputs": [],
   "source": [
    "sub.to_csv('xgbready.csv', index=False)"
   ]
  },
  {
   "cell_type": "code",
   "execution_count": null,
   "metadata": {},
   "outputs": [],
   "source": [
    "filename = 'RandomForest_model.sav'\n",
    "load_randomf = pickle.load(open(filename, 'rb'))\n",
    "rf = load_randomf.predict(X)\n",
    "rf"
   ]
  },
  {
   "cell_type": "code",
   "execution_count": null,
   "metadata": {},
   "outputs": [],
   "source": [
    "filename = '../XGBClassifier80_model.sav'\n",
    "load_randomxg80 = pickle.load(open(filename, 'rb'))\n",
    "y_predxgb80 = load_randomxg80.predict(X)"
   ]
  },
  {
   "cell_type": "code",
   "execution_count": null,
   "metadata": {},
   "outputs": [],
   "source": [
    "sub = pd.read_csv('../submission files/gender_submission.csv', delimiter=',')\n",
    "sub.drop(columns=['Survived'], inplace=True)\n",
    "sub['Survived'] = y_predxgb80\n",
    "sub.to_csv('../submission files/readyxgb80.csv', index=False)"
   ]
  },
  {
   "cell_type": "code",
   "execution_count": null,
   "metadata": {},
   "outputs": [],
   "source": []
  }
 ],
 "metadata": {
  "kernelspec": {
   "display_name": "Python 3",
   "language": "python",
   "name": "python3"
  },
  "language_info": {
   "codemirror_mode": {
    "name": "ipython",
    "version": 3
   },
   "file_extension": ".py",
   "mimetype": "text/x-python",
   "name": "python",
   "nbconvert_exporter": "python",
   "pygments_lexer": "ipython3",
   "version": "3.6.7"
  }
 },
 "nbformat": 4,
 "nbformat_minor": 2
}
